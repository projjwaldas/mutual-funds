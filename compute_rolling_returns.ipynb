{
 "cells": [
  {
   "cell_type": "markdown",
   "id": "stainless-cooking",
   "metadata": {},
   "source": [
    "## Import Modules & Parameters"
   ]
  },
  {
   "cell_type": "code",
   "execution_count": 1,
   "id": "communist-catering",
   "metadata": {},
   "outputs": [],
   "source": [
    "# import module\n",
    "from mftool import Mftool\n",
    "import pandas as pd, numpy as np\n",
    "import urllib.request, warnings\n",
    "from dateutil.relativedelta import relativedelta\n",
    "\n",
    "warnings.filterwarnings(\"ignore\")"
   ]
  },
  {
   "cell_type": "code",
   "execution_count": 12,
   "id": "employed-julian",
   "metadata": {},
   "outputs": [],
   "source": [
    "target_url = 'https://raw.githubusercontent.com/NayakwadiS/mftool/master/Scheme_codes.txt'\n",
    "rolling_return_yrs = 5"
   ]
  },
  {
   "cell_type": "markdown",
   "id": "intense-arrow",
   "metadata": {},
   "source": [
    "## User Defined Function"
   ]
  },
  {
   "cell_type": "code",
   "execution_count": 20,
   "id": "northern-pharmacology",
   "metadata": {},
   "outputs": [],
   "source": [
    "def get_rolling_returns_stats(scheme_name):\n",
    "    \n",
    "    # Get the Scheme Code\n",
    "    for line in urllib.request.urlopen(target_url):\n",
    "        if scheme_name.lower().replace(' ', '') in line.decode('utf-8').lower().replace(' ', ''):\n",
    "            scheme_code = int(line.decode('utf-8').split(':')[0].replace(\"'\", '').replace('\\t', ''))\n",
    "            break\n",
    "    print(\"Scheme Name:\", scheme_name)\n",
    "    print(\"Scheme Code:\", scheme_code)\n",
    "    \n",
    "    # pass the scheme code into methods\n",
    "    obj = Mftool()\n",
    "#     data = obj.get_scheme_quote(scheme_code)\n",
    "    \n",
    "    # Get Historical NAV and convert into pandas dataframe\n",
    "    data = obj.get_scheme_historical_nav(scheme_code)\n",
    "    nav_df = pd.DataFrame(data['data'])\n",
    "\n",
    "    # Variable Type Change\n",
    "    nav_df['nav'] = nav_df['nav'].astype(float)\n",
    "    nav_df['date'] = pd.to_datetime(nav_df['date'], format='%d-%m-%Y')\n",
    "    \n",
    "    # Required Lag\n",
    "    hist_cutoff_dt = max(nav_df['date']) - relativedelta(years=rolling_return_yrs)\n",
    "    req_lag = nav_df.index[nav_df['date'] <= hist_cutoff_dt].tolist()[0]\n",
    "\n",
    "    # Get Lagged Data\n",
    "    nav_df['nav_lag'] = nav_df['nav'].shift(-req_lag)\n",
    "    nav_df['date_lag'] = nav_df['date'].shift(-req_lag)\n",
    "\n",
    "    # Calculate Return\n",
    "    nav_df_sub = nav_df[nav_df['nav_lag'] > 0]\n",
    "    nav_df_sub['return'] = (nav_df_sub['nav']/nav_df_sub['nav_lag']-1)/rolling_return_yrs\n",
    "#     nav_df_sub['return'] = ((nav_df_sub['nav']/nav_df_sub['nav_lag'])^(1/rolling_return_yrs))-1\n",
    "    \n",
    "    # Compute Stats\n",
    "    neg_reurn = nav_df_sub[nav_df_sub['return'] < 0].index.size/nav_df_sub.index.size\n",
    "    ge_15_return = nav_df_sub[nav_df_sub['return'] >= 0.15].index.size/nav_df_sub.index.size\n",
    "    le_10_return = nav_df_sub[nav_df_sub['return'] < 0.1].index.size/nav_df_sub.index.size\n",
    "\n",
    "    # Print Stats\n",
    "    print(\"    Max Return:\", max(nav_df_sub['return'].dropna())*100, \"%\")\n",
    "    print(\"    Avg Return:\", np.mean(nav_df_sub['return'].dropna())*100, \"%\")\n",
    "    print(\"    Min Return:\", min(nav_df_sub['return'].dropna())*100, \"%\")\n",
    "    print(\"    % times fund has given -ve return:\", round(neg_reurn*100,2), \"%\")\n",
    "    print(\"    % times fund has given >= 15% return:\", round(ge_15_return*100,2), \"%\")\n",
    "    print(\"    % times fund has given < 10% return:\", round(le_10_return*100,2), \"%\")\n",
    "    print(\"\")"
   ]
  },
  {
   "cell_type": "code",
   "execution_count": 21,
   "id": "regulation-sterling",
   "metadata": {},
   "outputs": [
    {
     "name": "stdout",
     "output_type": "stream",
     "text": [
      "Scheme Name: Axis Small Cap Fund - Direct Plan - Growth\n",
      "Scheme Code: 125354\n",
      "    Max Return: 36.93386773547094 %\n",
      "    Avg Return: 20.91883031792895 %\n",
      "    Min Return: 5.232793522267203 %\n",
      "    % times fund has given -ve return: 0.0 %\n",
      "    % times fund has given >= 15% return: 80.03 %\n",
      "    % times fund has given < 10% return: 8.33 %\n",
      "\n",
      "Scheme Name: SBI Small Cap Fund - Direct Plan - Growth\n",
      "Scheme Code: 125497\n",
      "    Max Return: 63.30823482360542 %\n",
      "    Avg Return: 30.00214064493362 %\n",
      "    Min Return: 7.707651446048187 %\n",
      "    % times fund has given -ve return: 0.0 %\n",
      "    % times fund has given >= 15% return: 83.7 %\n",
      "    % times fund has given < 10% return: 1.87 %\n",
      "\n"
     ]
    }
   ],
   "source": [
    "get_rolling_returns_stats('Axis Small Cap Fund - Direct Plan - Growth')\n",
    "get_rolling_returns_stats('SBI Small Cap Fund - Direct Plan - Growth')\n",
    "# get_rolling_returns_stats('SBI Blue Chip Fund - Direct Plan - Growth')"
   ]
  }
 ],
 "metadata": {
  "kernelspec": {
   "display_name": "Python 3",
   "language": "python",
   "name": "python3"
  },
  "language_info": {
   "codemirror_mode": {
    "name": "ipython",
    "version": 3
   },
   "file_extension": ".py",
   "mimetype": "text/x-python",
   "name": "python",
   "nbconvert_exporter": "python",
   "pygments_lexer": "ipython3",
   "version": "3.8.3"
  }
 },
 "nbformat": 4,
 "nbformat_minor": 5
}
